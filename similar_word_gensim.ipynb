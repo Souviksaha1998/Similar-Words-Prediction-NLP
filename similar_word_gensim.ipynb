{
  "nbformat": 4,
  "nbformat_minor": 0,
  "metadata": {
    "colab": {
      "name": "text_generation_lstm.ipynb",
      "provenance": [],
      "collapsed_sections": []
    },
    "kernelspec": {
      "name": "python3",
      "display_name": "Python 3"
    },
    "language_info": {
      "name": "python"
    },
    "accelerator": "GPU"
  },
  "cells": [
    {
      "cell_type": "code",
      "execution_count": 1,
      "metadata": {
        "colab": {
          "base_uri": "https://localhost:8080/"
        },
        "id": "yHO_b0kZDAra",
        "outputId": "1ec108c3-9244-4422-c474-00a6c8a323fc"
      },
      "outputs": [
        {
          "output_type": "stream",
          "name": "stdout",
          "text": [
            "Looking in indexes: https://pypi.org/simple, https://us-python.pkg.dev/colab-wheels/public/simple/\n",
            "Requirement already satisfied: gensim in /usr/local/lib/python3.7/dist-packages (3.6.0)\n",
            "Requirement already satisfied: smart-open>=1.2.1 in /usr/local/lib/python3.7/dist-packages (from gensim) (5.2.1)\n",
            "Requirement already satisfied: six>=1.5.0 in /usr/local/lib/python3.7/dist-packages (from gensim) (1.15.0)\n",
            "Requirement already satisfied: scipy>=0.18.1 in /usr/local/lib/python3.7/dist-packages (from gensim) (1.4.1)\n",
            "Requirement already satisfied: numpy>=1.11.3 in /usr/local/lib/python3.7/dist-packages (from gensim) (1.21.6)\n",
            "Looking in indexes: https://pypi.org/simple, https://us-python.pkg.dev/colab-wheels/public/simple/\n",
            "Collecting python-Levenshtein\n",
            "  Downloading python-Levenshtein-0.12.2.tar.gz (50 kB)\n",
            "\u001b[K     |████████████████████████████████| 50 kB 3.9 MB/s \n",
            "\u001b[?25hRequirement already satisfied: setuptools in /usr/local/lib/python3.7/dist-packages (from python-Levenshtein) (57.4.0)\n",
            "Building wheels for collected packages: python-Levenshtein\n",
            "  Building wheel for python-Levenshtein (setup.py) ... \u001b[?25l\u001b[?25hdone\n",
            "  Created wheel for python-Levenshtein: filename=python_Levenshtein-0.12.2-cp37-cp37m-linux_x86_64.whl size=149876 sha256=a12ba4f5c2cc6d1c6b74b275c2028921c585136540ac3319d05084d8b8dcdc77\n",
            "  Stored in directory: /root/.cache/pip/wheels/05/5f/ca/7c4367734892581bb5ff896f15027a932c551080b2abd3e00d\n",
            "Successfully built python-Levenshtein\n",
            "Installing collected packages: python-Levenshtein\n",
            "Successfully installed python-Levenshtein-0.12.2\n"
          ]
        }
      ],
      "source": [
        "!pip install gensim\n",
        "!pip install python-Levenshtein"
      ]
    },
    {
      "cell_type": "code",
      "source": [
        "!gdown 1yGCM_G1mocfxFGRhQl69-w1RwNQp-1HL"
      ],
      "metadata": {
        "colab": {
          "base_uri": "https://localhost:8080/"
        },
        "id": "M00Pru3k6zJv",
        "outputId": "de06e89a-4de8-488f-ffa3-816cce68289a"
      },
      "execution_count": 2,
      "outputs": [
        {
          "output_type": "stream",
          "name": "stdout",
          "text": [
            "Downloading...\n",
            "From: https://drive.google.com/uc?id=1yGCM_G1mocfxFGRhQl69-w1RwNQp-1HL\n",
            "To: /content/amazondata.csv\n",
            "100% 76.9M/76.9M [00:00<00:00, 149MB/s]\n"
          ]
        }
      ]
    },
    {
      "cell_type": "code",
      "source": [
        "import numpy as np\n",
        "from tensorflow.keras.models import Sequential\n",
        "from tensorflow.keras.layers import Dense , LSTM , Dropout , Embedding , Bidirectional , Flatten\n",
        "from tensorflow.keras.callbacks import ModelCheckpoint , EarlyStopping\n",
        "from tensorflow.keras.utils import to_categorical\n",
        "from tensorflow.keras.preprocessing.text import Tokenizer\n",
        "from tensorflow.keras.preprocessing.sequence import pad_sequences\n",
        "import re\n",
        "from tensorflow.keras.optimizers import Adam\n",
        "from tensorflow.keras.layers import BatchNormalization\n",
        "import pandas as pd\n",
        "import re\n",
        "import gensim"
      ],
      "metadata": {
        "id": "BMBqWMygEyva"
      },
      "execution_count": 9,
      "outputs": []
    },
    {
      "cell_type": "code",
      "source": [
        "df = pd.read_csv('/content/amazondata.csv')"
      ],
      "metadata": {
        "id": "mlv7lsDVFP3v",
        "colab": {
          "base_uri": "https://localhost:8080/"
        },
        "outputId": "3f2e6fc5-c1a5-4e60-f4fd-8cfd4beacd6f"
      },
      "execution_count": 4,
      "outputs": [
        {
          "output_type": "stream",
          "name": "stderr",
          "text": [
            "/usr/local/lib/python3.7/dist-packages/IPython/core/interactiveshell.py:2882: DtypeWarning: Columns (1,2) have mixed types.Specify dtype option on import or set low_memory=False.\n",
            "  exec(code_obj, self.user_global_ns, self.user_ns)\n"
          ]
        }
      ]
    },
    {
      "cell_type": "code",
      "source": [
        "df['Review Body']= df['Review Body'].dropna()\n",
        "df['Review Body']= df['Review Body'].apply(str)"
      ],
      "metadata": {
        "id": "bZYmuZrd6-L2"
      },
      "execution_count": 13,
      "outputs": []
    },
    {
      "cell_type": "code",
      "source": [
        "df.shape"
      ],
      "metadata": {
        "colab": {
          "base_uri": "https://localhost:8080/"
        },
        "id": "LLmxBMiT7Ctx",
        "outputId": "dd105bdf-872a-437a-9086-3a76e293ca52"
      },
      "execution_count": 6,
      "outputs": [
        {
          "output_type": "execute_result",
          "data": {
            "text/plain": [
              "(128845, 11)"
            ]
          },
          "metadata": {},
          "execution_count": 6
        }
      ]
    },
    {
      "cell_type": "code",
      "source": [
        "df['Review Body'][0]"
      ],
      "metadata": {
        "colab": {
          "base_uri": "https://localhost:8080/",
          "height": 36
        },
        "id": "Q94thh427Ln0",
        "outputId": "42e47507-5272-41a7-c9cb-f081fe9eaa59"
      },
      "execution_count": 7,
      "outputs": [
        {
          "output_type": "execute_result",
          "data": {
            "text/plain": [
              "'You will love this book.  It is a hard long read but worth it and never gets boring. The characters are great and really raises questions.'"
            ],
            "application/vnd.google.colaboratory.intrinsic+json": {
              "type": "string"
            }
          },
          "metadata": {},
          "execution_count": 7
        }
      ]
    },
    {
      "cell_type": "code",
      "source": [
        "gensim.utils.simple_preprocess('You will love this book.  It is a hard long read but worth it and never gets boring. The characters are great and really raises questions.')"
      ],
      "metadata": {
        "colab": {
          "base_uri": "https://localhost:8080/"
        },
        "id": "6oycKO007P5O",
        "outputId": "257f10da-0cf9-436c-ed0c-20fc338831be"
      },
      "execution_count": 11,
      "outputs": [
        {
          "output_type": "execute_result",
          "data": {
            "text/plain": [
              "['you',\n",
              " 'will',\n",
              " 'love',\n",
              " 'this',\n",
              " 'book',\n",
              " 'it',\n",
              " 'is',\n",
              " 'hard',\n",
              " 'long',\n",
              " 'read',\n",
              " 'but',\n",
              " 'worth',\n",
              " 'it',\n",
              " 'and',\n",
              " 'never',\n",
              " 'gets',\n",
              " 'boring',\n",
              " 'the',\n",
              " 'characters',\n",
              " 'are',\n",
              " 'great',\n",
              " 'and',\n",
              " 'really',\n",
              " 'raises',\n",
              " 'questions']"
            ]
          },
          "metadata": {},
          "execution_count": 11
        }
      ]
    },
    {
      "cell_type": "code",
      "source": [
        "df_text = df['Review Body'].apply(gensim.utils.simple_preprocess)"
      ],
      "metadata": {
        "id": "jfoM0KgL7iH-"
      },
      "execution_count": 14,
      "outputs": []
    },
    {
      "cell_type": "code",
      "source": [
        "df_text.shape"
      ],
      "metadata": {
        "colab": {
          "base_uri": "https://localhost:8080/"
        },
        "id": "nuMBQJhG71Ma",
        "outputId": "2498229e-30c1-4715-f07c-644768c040bd"
      },
      "execution_count": 25,
      "outputs": [
        {
          "output_type": "execute_result",
          "data": {
            "text/plain": [
              "(128845,)"
            ]
          },
          "metadata": {},
          "execution_count": 25
        }
      ]
    },
    {
      "cell_type": "code",
      "source": [
        "model = gensim.models.Word2Vec(window = 5,min_count=2,size=300)"
      ],
      "metadata": {
        "id": "Cgl_4Tv_FHLJ"
      },
      "execution_count": 32,
      "outputs": []
    },
    {
      "cell_type": "code",
      "source": [
        "model.build_vocab(df_text,progress_per=1000)"
      ],
      "metadata": {
        "id": "3x9pjVKD24EI"
      },
      "execution_count": 33,
      "outputs": []
    },
    {
      "cell_type": "code",
      "source": [
        "print(len(model.wv.vocab))"
      ],
      "metadata": {
        "colab": {
          "base_uri": "https://localhost:8080/"
        },
        "id": "jYhes8oQ8tqv",
        "outputId": "8d9f4b6b-e6c5-40c1-fc77-1de25768b9ef"
      },
      "execution_count": 34,
      "outputs": [
        {
          "output_type": "stream",
          "name": "stdout",
          "text": [
            "61002\n"
          ]
        }
      ]
    },
    {
      "cell_type": "code",
      "source": [
        "model.epochs"
      ],
      "metadata": {
        "id": "xFsokFTVBXDe",
        "colab": {
          "base_uri": "https://localhost:8080/"
        },
        "outputId": "d9a4cc5a-b6fc-4a66-fe40-3a3dd3b19b08"
      },
      "execution_count": 19,
      "outputs": [
        {
          "output_type": "execute_result",
          "data": {
            "text/plain": [
              "5"
            ]
          },
          "metadata": {},
          "execution_count": 19
        }
      ]
    },
    {
      "cell_type": "code",
      "source": [
        "model.train(df_text,total_examples=model.corpus_count,epochs=50)"
      ],
      "metadata": {
        "colab": {
          "base_uri": "https://localhost:8080/"
        },
        "id": "w5bpNSCj2943",
        "outputId": "5aa1aa3c-46d3-432b-c2da-5af72f4e62a1"
      },
      "execution_count": 35,
      "outputs": [
        {
          "output_type": "execute_result",
          "data": {
            "text/plain": [
              "(428495004, 565387700)"
            ]
          },
          "metadata": {},
          "execution_count": 35
        }
      ]
    },
    {
      "cell_type": "code",
      "source": [
        "model.corpus_count"
      ],
      "metadata": {
        "colab": {
          "base_uri": "https://localhost:8080/"
        },
        "id": "wwYLHx-49Lwd",
        "outputId": "e1128402-ae95-425b-f8d6-37b8b0537adf"
      },
      "execution_count": 24,
      "outputs": [
        {
          "output_type": "execute_result",
          "data": {
            "text/plain": [
              "128845"
            ]
          },
          "metadata": {},
          "execution_count": 24
        }
      ]
    },
    {
      "cell_type": "code",
      "source": [
        "model.save('custom_similarity.model')"
      ],
      "metadata": {
        "id": "U9ScPR7dDmty"
      },
      "execution_count": 39,
      "outputs": []
    },
    {
      "cell_type": "code",
      "source": [
        "model.wv.most_similar('similar')"
      ],
      "metadata": {
        "id": "ZFidJBD9Yxit",
        "colab": {
          "base_uri": "https://localhost:8080/"
        },
        "outputId": "9bdff05f-6a28-422d-abcd-a6b32de20286"
      },
      "execution_count": 47,
      "outputs": [
        {
          "output_type": "execute_result",
          "data": {
            "text/plain": [
              "[('different', 0.5048530101776123),\n",
              " ('similiar', 0.41284841299057007),\n",
              " ('specific', 0.3964138925075531),\n",
              " ('identical', 0.37528756260871887),\n",
              " ('same', 0.3521730899810791),\n",
              " ('familiar', 0.3504819869995117),\n",
              " ('common', 0.34386730194091797),\n",
              " ('akin', 0.34186649322509766),\n",
              " ('related', 0.3344537317752838),\n",
              " ('distressful', 0.3337581157684326)]"
            ]
          },
          "metadata": {},
          "execution_count": 47
        }
      ]
    },
    {
      "cell_type": "code",
      "source": [
        "from google.colab import drive\n",
        "drive.mount('MyDrive')"
      ],
      "metadata": {
        "colab": {
          "base_uri": "https://localhost:8080/"
        },
        "id": "nOBJRAysYxvL",
        "outputId": "e6033f08-f830-4a78-f596-c285dba05720"
      },
      "execution_count": 41,
      "outputs": [
        {
          "output_type": "stream",
          "name": "stdout",
          "text": [
            "Mounted at MyDrive\n"
          ]
        }
      ]
    },
    {
      "cell_type": "code",
      "source": [
        "!cp '/content/custom_similarity.model' '/content/MyDrive/MyDrive/nlp'"
      ],
      "metadata": {
        "id": "xUp2UNYbEEBD"
      },
      "execution_count": 42,
      "outputs": []
    },
    {
      "cell_type": "code",
      "source": [
        ""
      ],
      "metadata": {
        "id": "uCnc742pEHyi"
      },
      "execution_count": null,
      "outputs": []
    }
  ]
}